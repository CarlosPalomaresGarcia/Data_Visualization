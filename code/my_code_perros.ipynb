{
 "cells": [
  {
   "cell_type": "code",
   "execution_count": 1,
   "metadata": {},
   "outputs": [],
   "source": [
    "import pandas as pd\n",
    "from selenium import webdriver\n",
    "from selenium.webdriver.chrome.options import Options\n",
    "from webdriver_manager.chrome import ChromeDriverManager\n",
    "from selenium.webdriver.common.by import By"
   ]
  },
  {
   "cell_type": "code",
   "execution_count": 2,
   "metadata": {},
   "outputs": [
    {
     "name": "stderr",
     "output_type": "stream",
     "text": [
      "C:\\Users\\carlo\\AppData\\Local\\Temp\\ipykernel_10580\\4076755805.py:6: DeprecationWarning: headless property is deprecated, instead use add_argument('--headless') or add_argument('--headless=new')\n",
      "  opciones.headless=False    # si True, no aperece la ventana (headless=no visible)\n"
     ]
    }
   ],
   "source": [
    "#driver configuration\n",
    "opciones=Options()\n",
    "\n",
    "opciones.add_experimental_option('excludeSwitches', ['enable-automation'])\n",
    "opciones.add_experimental_option('useAutomationExtension', False)\n",
    "opciones.headless=False    # si True, no aperece la ventana (headless=no visible)\n",
    "opciones.add_argument('--start-maximized')         # comienza maximizado\n",
    "#opciones.add_argument('user-data-dir=selenium')    # mantiene las cookies\n",
    "#opciones.add_extension('driver_folder/adblock.crx')       # adblocker\n",
    "opciones.add_argument('--incognito')"
   ]
  },
  {
   "cell_type": "code",
   "execution_count": 3,
   "metadata": {},
   "outputs": [],
   "source": [
    "perros = pd.read_csv(r'..\\dog_breeds.csv',encoding='ISO-8859-1')"
   ]
  },
  {
   "cell_type": "code",
   "execution_count": 4,
   "metadata": {},
   "outputs": [
    {
     "data": {
      "text/html": [
       "<div>\n",
       "<style scoped>\n",
       "    .dataframe tbody tr th:only-of-type {\n",
       "        vertical-align: middle;\n",
       "    }\n",
       "\n",
       "    .dataframe tbody tr th {\n",
       "        vertical-align: top;\n",
       "    }\n",
       "\n",
       "    .dataframe thead th {\n",
       "        text-align: right;\n",
       "    }\n",
       "</style>\n",
       "<table border=\"1\" class=\"dataframe\">\n",
       "  <thead>\n",
       "    <tr style=\"text-align: right;\">\n",
       "      <th></th>\n",
       "      <th>Breed</th>\n",
       "      <th>Country of Origin</th>\n",
       "      <th>Fur Color</th>\n",
       "      <th>Height (in)</th>\n",
       "      <th>Color of Eyes</th>\n",
       "      <th>Longevity (yrs)</th>\n",
       "      <th>Character Traits</th>\n",
       "      <th>Common Health Problems</th>\n",
       "    </tr>\n",
       "  </thead>\n",
       "  <tbody>\n",
       "    <tr>\n",
       "      <th>0</th>\n",
       "      <td>Labrador Retriever</td>\n",
       "      <td>Canada</td>\n",
       "      <td>Yellow, Black, Chocolate</td>\n",
       "      <td>21-24</td>\n",
       "      <td>Brown</td>\n",
       "      <td>10-12</td>\n",
       "      <td>Loyal, friendly, intelligent, energetic, good-...</td>\n",
       "      <td>Hip dysplasia, obesity, ear infections</td>\n",
       "    </tr>\n",
       "    <tr>\n",
       "      <th>1</th>\n",
       "      <td>German Shepherd</td>\n",
       "      <td>Germany</td>\n",
       "      <td>Black, Tan</td>\n",
       "      <td>22-26</td>\n",
       "      <td>Brown</td>\n",
       "      <td>7-10</td>\n",
       "      <td>Loyal, intelligent, protective, confident, tra...</td>\n",
       "      <td>Hip dysplasia, elbow dysplasia, pancreatitis</td>\n",
       "    </tr>\n",
       "    <tr>\n",
       "      <th>2</th>\n",
       "      <td>Bulldog</td>\n",
       "      <td>England</td>\n",
       "      <td>White, Red</td>\n",
       "      <td>12-16</td>\n",
       "      <td>Brown</td>\n",
       "      <td>8-10</td>\n",
       "      <td>Loyal, calm, gentle, brave</td>\n",
       "      <td>Skin allergies, respiratory issues, obesity</td>\n",
       "    </tr>\n",
       "    <tr>\n",
       "      <th>3</th>\n",
       "      <td>Poodle</td>\n",
       "      <td>France</td>\n",
       "      <td>White, Black, Brown, Apricot</td>\n",
       "      <td>10-15</td>\n",
       "      <td>Brown, Blue</td>\n",
       "      <td>12-15</td>\n",
       "      <td>Intelligent, active, affectionate, hypoallergenic</td>\n",
       "      <td>Hip dysplasia, epilepsy, bladder stones</td>\n",
       "    </tr>\n",
       "    <tr>\n",
       "      <th>4</th>\n",
       "      <td>Beagle</td>\n",
       "      <td>England</td>\n",
       "      <td>White, Tan, Red, Lemon</td>\n",
       "      <td>13-15</td>\n",
       "      <td>Brown</td>\n",
       "      <td>12-15</td>\n",
       "      <td>Curious, friendly, energetic, good-natured</td>\n",
       "      <td>Ear infections, hip dysplasia, epilepsy</td>\n",
       "    </tr>\n",
       "  </tbody>\n",
       "</table>\n",
       "</div>"
      ],
      "text/plain": [
       "                Breed Country of Origin                     Fur Color  \\\n",
       "0  Labrador Retriever            Canada      Yellow, Black, Chocolate   \n",
       "1     German Shepherd           Germany                    Black, Tan   \n",
       "2             Bulldog           England                    White, Red   \n",
       "3              Poodle            France  White, Black, Brown, Apricot   \n",
       "4              Beagle           England        White, Tan, Red, Lemon   \n",
       "\n",
       "  Height (in) Color of Eyes Longevity (yrs)  \\\n",
       "0       21-24         Brown           10-12   \n",
       "1       22-26         Brown            7-10   \n",
       "2       12-16         Brown            8-10   \n",
       "3       10-15   Brown, Blue           12-15   \n",
       "4       13-15         Brown           12-15   \n",
       "\n",
       "                                    Character Traits  \\\n",
       "0  Loyal, friendly, intelligent, energetic, good-...   \n",
       "1  Loyal, intelligent, protective, confident, tra...   \n",
       "2                         Loyal, calm, gentle, brave   \n",
       "3  Intelligent, active, affectionate, hypoallergenic   \n",
       "4         Curious, friendly, energetic, good-natured   \n",
       "\n",
       "                         Common Health Problems  \n",
       "0        Hip dysplasia, obesity, ear infections  \n",
       "1  Hip dysplasia, elbow dysplasia, pancreatitis  \n",
       "2   Skin allergies, respiratory issues, obesity  \n",
       "3       Hip dysplasia, epilepsy, bladder stones  \n",
       "4       Ear infections, hip dysplasia, epilepsy  "
      ]
     },
     "execution_count": 4,
     "metadata": {},
     "output_type": "execute_result"
    }
   ],
   "source": [
    "perros.head()"
   ]
  },
  {
   "cell_type": "code",
   "execution_count": 5,
   "metadata": {},
   "outputs": [],
   "source": [
    "perros.columns=[e.lower().replace(' ', '_') for e in perros.columns]"
   ]
  },
  {
   "cell_type": "code",
   "execution_count": 6,
   "metadata": {},
   "outputs": [],
   "source": [
    "perros = perros.drop('common_health_problems', axis=1)"
   ]
  },
  {
   "cell_type": "code",
   "execution_count": 7,
   "metadata": {},
   "outputs": [
    {
     "name": "stdout",
     "output_type": "stream",
     "text": [
      "<class 'pandas.core.frame.DataFrame'>\n",
      "RangeIndex: 117 entries, 0 to 116\n",
      "Data columns (total 7 columns):\n",
      " #   Column             Non-Null Count  Dtype \n",
      "---  ------             --------------  ----- \n",
      " 0   breed              117 non-null    object\n",
      " 1   country_of_origin  117 non-null    object\n",
      " 2   fur_color          117 non-null    object\n",
      " 3   height_(in)        117 non-null    object\n",
      " 4   color_of_eyes      117 non-null    object\n",
      " 5   longevity_(yrs)    117 non-null    object\n",
      " 6   character_traits   117 non-null    object\n",
      "dtypes: object(7)\n",
      "memory usage: 6.5+ KB\n"
     ]
    }
   ],
   "source": [
    "perros.info()"
   ]
  },
  {
   "attachments": {},
   "cell_type": "markdown",
   "metadata": {},
   "source": [
    "Web Scrapping.\n"
   ]
  },
  {
   "cell_type": "code",
   "execution_count": 8,
   "metadata": {},
   "outputs": [
    {
     "name": "stderr",
     "output_type": "stream",
     "text": [
      "C:\\Users\\carlo\\AppData\\Local\\Temp\\ipykernel_10580\\1799695204.py:3: DeprecationWarning: executable_path has been deprecated, please pass in a Service object\n",
      "  driver = webdriver.Chrome(PATH)      # abre una ventana de chrome\n"
     ]
    }
   ],
   "source": [
    "PATH = ChromeDriverManager().install()    # instala driver de chrome\n",
    "\n",
    "driver = webdriver.Chrome(PATH)      # abre una ventana de chrome\n",
    "\n",
    "url = 'https://www.thekennelclub.org.uk/search/breeds-a-to-z/'\n",
    "\n",
    "driver.get(url)\n",
    "\n",
    "# Para que pinche en el boton de accept de las cookies y salgan todos los registros.\n",
    "# En caso de no ponerlo, solo aparecen los primeros registros que le da tiempo a cargar antes de que salte el mensaje de cookies.\n",
    "driver.find_element(By.XPATH, '//*[@id=\"qc-cmp2-ui\"]/div[2]/div/button[2]/span').click()\n",
    "\n",
    "\n",
    "web_perros = driver.find_elements(By.CLASS_NAME,'m-breed-card.m-breed-card--padded')\n",
    "razas_perros = []\n",
    "\n",
    "# Iterar por todo el archivo de selenium para que lo convierta en texto.\n",
    "for dog in web_perros:\n",
    "    dog = dog.text.strip().split('\\n')\n",
    "    razas_perros.append(dog)\n",
    "\n",
    "driver.quit()"
   ]
  },
  {
   "cell_type": "code",
   "execution_count": 9,
   "metadata": {},
   "outputs": [
    {
     "data": {
      "text/html": [
       "<div>\n",
       "<style scoped>\n",
       "    .dataframe tbody tr th:only-of-type {\n",
       "        vertical-align: middle;\n",
       "    }\n",
       "\n",
       "    .dataframe tbody tr th {\n",
       "        vertical-align: top;\n",
       "    }\n",
       "\n",
       "    .dataframe thead th {\n",
       "        text-align: right;\n",
       "    }\n",
       "</style>\n",
       "<table border=\"1\" class=\"dataframe\">\n",
       "  <thead>\n",
       "    <tr style=\"text-align: right;\">\n",
       "      <th></th>\n",
       "      <th>0</th>\n",
       "      <th>1</th>\n",
       "      <th>2</th>\n",
       "      <th>3</th>\n",
       "      <th>4</th>\n",
       "      <th>5</th>\n",
       "      <th>6</th>\n",
       "      <th>7</th>\n",
       "      <th>8</th>\n",
       "      <th>9</th>\n",
       "      <th>...</th>\n",
       "      <th>13</th>\n",
       "      <th>14</th>\n",
       "      <th>15</th>\n",
       "      <th>16</th>\n",
       "      <th>17</th>\n",
       "      <th>18</th>\n",
       "      <th>19</th>\n",
       "      <th>20</th>\n",
       "      <th>21</th>\n",
       "      <th>22</th>\n",
       "    </tr>\n",
       "  </thead>\n",
       "  <tbody>\n",
       "    <tr>\n",
       "      <th>0</th>\n",
       "      <td>TOY</td>\n",
       "      <td>Affenpinscher</td>\n",
       "      <td>Breed characteristics</td>\n",
       "      <td>SIZE</td>\n",
       "      <td>Small</td>\n",
       "      <td>EXERCISE</td>\n",
       "      <td>Up to 1 hour per day</td>\n",
       "      <td>SIZE OF HOME</td>\n",
       "      <td>Flat/ Apartment</td>\n",
       "      <td>GROOMING</td>\n",
       "      <td>...</td>\n",
       "      <td>SHEDS</td>\n",
       "      <td>Yes</td>\n",
       "      <td>LIFESPAN</td>\n",
       "      <td>Over 12 years</td>\n",
       "      <td>VULNERABLE NATIVE BREED</td>\n",
       "      <td>No</td>\n",
       "      <td>TOWN OR COUNTRY</td>\n",
       "      <td>Either</td>\n",
       "      <td>SIZE OF GARDEN</td>\n",
       "      <td>Small/ medium garden</td>\n",
       "    </tr>\n",
       "  </tbody>\n",
       "</table>\n",
       "<p>1 rows × 23 columns</p>\n",
       "</div>"
      ],
      "text/plain": [
       "    0              1                      2     3      4         5   \\\n",
       "0  TOY  Affenpinscher  Breed characteristics  SIZE  Small  EXERCISE   \n",
       "\n",
       "                     6             7                8         9   ...     13  \\\n",
       "0  Up to 1 hour per day  SIZE OF HOME  Flat/ Apartment  GROOMING  ...  SHEDS   \n",
       "\n",
       "    14        15             16                       17  18               19  \\\n",
       "0  Yes  LIFESPAN  Over 12 years  VULNERABLE NATIVE BREED  No  TOWN OR COUNTRY   \n",
       "\n",
       "       20              21                    22  \n",
       "0  Either  SIZE OF GARDEN  Small/ medium garden  \n",
       "\n",
       "[1 rows x 23 columns]"
      ]
     },
     "execution_count": 9,
     "metadata": {},
     "output_type": "execute_result"
    }
   ],
   "source": [
    "# Paso los datos que tengo en texto a un DataFrame\n",
    "web_perros = pd.DataFrame(razas_perros)\n",
    "web_perros.head(1)"
   ]
  },
  {
   "cell_type": "code",
   "execution_count": 10,
   "metadata": {},
   "outputs": [
    {
     "data": {
      "text/plain": [
       "(222, 23)"
      ]
     },
     "execution_count": 10,
     "metadata": {},
     "output_type": "execute_result"
    }
   ],
   "source": [
    "web_perros.shape"
   ]
  },
  {
   "cell_type": "code",
   "execution_count": 11,
   "metadata": {},
   "outputs": [],
   "source": [
    "# Elimino las columnas que no me valen\n",
    "web_perros = web_perros.drop([0, 2, 3, 5, 7, 8, 9, 11, 13, 14, 15, 16, 17, 18, 19, 21], axis=1)"
   ]
  },
  {
   "cell_type": "code",
   "execution_count": 12,
   "metadata": {},
   "outputs": [],
   "source": [
    "# Cambio los nombres de las columnas para que sea mas visual.\n",
    "web_perros = web_perros.rename(columns={1: 'Breed', 4: 'Size', 6: 'Exercise', 10: 'Grooming', 12: 'Coat_lenght'\n",
    "                                      , 20: 'Town_country', 22: 'Size_garden'})"
   ]
  },
  {
   "cell_type": "code",
   "execution_count": 13,
   "metadata": {},
   "outputs": [],
   "source": [
    "# Cambio las columnas a minuscula y cambio los espacios por '_'\n",
    "web_perros.columns=[e.lower().replace(' ', '_') for e in web_perros.columns]"
   ]
  },
  {
   "cell_type": "code",
   "execution_count": 14,
   "metadata": {},
   "outputs": [],
   "source": [
    "perros = perros.merge(web_perros, on = 'breed', how='inner') # Inner join para que no me aparezcan nulos."
   ]
  },
  {
   "cell_type": "code",
   "execution_count": 15,
   "metadata": {},
   "outputs": [],
   "source": [
    "perros.drop_duplicates(subset='breed', keep='first', inplace=True) # Elimino filas duplicadas, para que no se me repitan las razas"
   ]
  },
  {
   "cell_type": "code",
   "execution_count": 16,
   "metadata": {},
   "outputs": [
    {
     "data": {
      "text/plain": [
       "breed                0\n",
       "country_of_origin    0\n",
       "fur_color            0\n",
       "height_(in)          0\n",
       "color_of_eyes        0\n",
       "longevity_(yrs)      0\n",
       "character_traits     0\n",
       "size                 0\n",
       "exercise             0\n",
       "grooming             0\n",
       "coat_lenght          0\n",
       "town_country         0\n",
       "size_garden          0\n",
       "dtype: int64"
      ]
     },
     "execution_count": 16,
     "metadata": {},
     "output_type": "execute_result"
    }
   ],
   "source": [
    "perros.isnull().sum()"
   ]
  },
  {
   "cell_type": "code",
   "execution_count": 17,
   "metadata": {},
   "outputs": [
    {
     "data": {
      "text/plain": [
       "0"
      ]
     },
     "execution_count": 17,
     "metadata": {},
     "output_type": "execute_result"
    }
   ],
   "source": [
    "perros.duplicated().sum()"
   ]
  },
  {
   "cell_type": "code",
   "execution_count": 18,
   "metadata": {},
   "outputs": [],
   "source": [
    "# Limpio columnas para poder meterlo como integer en PowerBI\n",
    "perros['height_(in)'] = perros['height_(in)'].apply(lambda x: int(x.split('-')[0]))"
   ]
  },
  {
   "cell_type": "code",
   "execution_count": 19,
   "metadata": {},
   "outputs": [],
   "source": [
    "# Limpio columnas para poder meterlo como integer en PowerBI\n",
    "perros['longevity_(yrs)'] = perros['longevity_(yrs)'].apply(lambda x: int(x.split('-')[0]))"
   ]
  },
  {
   "cell_type": "code",
   "execution_count": 20,
   "metadata": {},
   "outputs": [],
   "source": [
    "# Cambio nombre de columnas\n",
    "perros['coat_lenght'] = perros['coat_lenght'].replace({'Short': 1, 'Long': 3, 'Medium': 2, 'Short & long': 1})"
   ]
  },
  {
   "cell_type": "code",
   "execution_count": 21,
   "metadata": {},
   "outputs": [],
   "source": [
    "# Cambio nombre de columnas\n",
    "perros['size_garden'] = perros['size_garden'].replace({'Small/ medium garden': 'medium', 'Large garden': 'large', 'No garden': 'home'})"
   ]
  },
  {
   "cell_type": "code",
   "execution_count": 22,
   "metadata": {},
   "outputs": [],
   "source": [
    "perros = perros.rename(columns={'country_of_origin': 'country','height_(in)': 'height', 'color_of_eyes': 'eyes','longevity_(yrs)': 'longevity', 'size_garden': 'garden'})"
   ]
  },
  {
   "cell_type": "code",
   "execution_count": 23,
   "metadata": {},
   "outputs": [],
   "source": [
    "razas_perros = perros['breed'].tolist()"
   ]
  },
  {
   "cell_type": "code",
   "execution_count": 24,
   "metadata": {},
   "outputs": [],
   "source": [
    "import random\n",
    "\n",
    "dog_names = pd.read_csv(r'..\\dognames.csv',encoding='ISO-8859-1')\n",
    "\n",
    "dog_names['breed'] = ''"
   ]
  },
  {
   "cell_type": "code",
   "execution_count": 25,
   "metadata": {},
   "outputs": [
    {
     "data": {
      "text/plain": [
       "(16220, 3)"
      ]
     },
     "execution_count": 25,
     "metadata": {},
     "output_type": "execute_result"
    }
   ],
   "source": [
    "dog_names.shape"
   ]
  },
  {
   "cell_type": "code",
   "execution_count": 26,
   "metadata": {},
   "outputs": [],
   "source": [
    "dog_names = dog_names.sample(n=100)"
   ]
  },
  {
   "cell_type": "code",
   "execution_count": 27,
   "metadata": {},
   "outputs": [
    {
     "data": {
      "text/html": [
       "<div>\n",
       "<style scoped>\n",
       "    .dataframe tbody tr th:only-of-type {\n",
       "        vertical-align: middle;\n",
       "    }\n",
       "\n",
       "    .dataframe tbody tr th {\n",
       "        vertical-align: top;\n",
       "    }\n",
       "\n",
       "    .dataframe thead th {\n",
       "        text-align: right;\n",
       "    }\n",
       "</style>\n",
       "<table border=\"1\" class=\"dataframe\">\n",
       "  <thead>\n",
       "    <tr style=\"text-align: right;\">\n",
       "      <th></th>\n",
       "      <th>Row_Labels</th>\n",
       "      <th>Count_AnimalName</th>\n",
       "      <th>breed</th>\n",
       "    </tr>\n",
       "  </thead>\n",
       "  <tbody>\n",
       "    <tr>\n",
       "      <th>14392</th>\n",
       "      <td>TARO</td>\n",
       "      <td>10</td>\n",
       "      <td></td>\n",
       "    </tr>\n",
       "    <tr>\n",
       "      <th>11977</th>\n",
       "      <td>RAINBOW</td>\n",
       "      <td>5</td>\n",
       "      <td></td>\n",
       "    </tr>\n",
       "    <tr>\n",
       "      <th>3814</th>\n",
       "      <td>DEARIE</td>\n",
       "      <td>1</td>\n",
       "      <td></td>\n",
       "    </tr>\n",
       "    <tr>\n",
       "      <th>4843</th>\n",
       "      <td>FENIX</td>\n",
       "      <td>1</td>\n",
       "      <td></td>\n",
       "    </tr>\n",
       "    <tr>\n",
       "      <th>5903</th>\n",
       "      <td>HANNIBAL</td>\n",
       "      <td>3</td>\n",
       "      <td></td>\n",
       "    </tr>\n",
       "    <tr>\n",
       "      <th>...</th>\n",
       "      <td>...</td>\n",
       "      <td>...</td>\n",
       "      <td>...</td>\n",
       "    </tr>\n",
       "    <tr>\n",
       "      <th>935</th>\n",
       "      <td>BAODAN</td>\n",
       "      <td>2</td>\n",
       "      <td></td>\n",
       "    </tr>\n",
       "    <tr>\n",
       "      <th>13163</th>\n",
       "      <td>SHALOM</td>\n",
       "      <td>3</td>\n",
       "      <td></td>\n",
       "    </tr>\n",
       "    <tr>\n",
       "      <th>6788</th>\n",
       "      <td>JERZEE</td>\n",
       "      <td>2</td>\n",
       "      <td></td>\n",
       "    </tr>\n",
       "    <tr>\n",
       "      <th>3262</th>\n",
       "      <td>COCOLICIOUS</td>\n",
       "      <td>1</td>\n",
       "      <td></td>\n",
       "    </tr>\n",
       "    <tr>\n",
       "      <th>14872</th>\n",
       "      <td>TORBO</td>\n",
       "      <td>2</td>\n",
       "      <td></td>\n",
       "    </tr>\n",
       "  </tbody>\n",
       "</table>\n",
       "<p>100 rows × 3 columns</p>\n",
       "</div>"
      ],
      "text/plain": [
       "        Row_Labels  Count_AnimalName breed\n",
       "14392         TARO                10      \n",
       "11977      RAINBOW                 5      \n",
       "3814        DEARIE                 1      \n",
       "4843         FENIX                 1      \n",
       "5903      HANNIBAL                 3      \n",
       "...            ...               ...   ...\n",
       "935         BAODAN                 2      \n",
       "13163       SHALOM                 3      \n",
       "6788        JERZEE                 2      \n",
       "3262   COCOLICIOUS                 1      \n",
       "14872        TORBO                 2      \n",
       "\n",
       "[100 rows x 3 columns]"
      ]
     },
     "execution_count": 27,
     "metadata": {},
     "output_type": "execute_result"
    }
   ],
   "source": [
    "dog_names"
   ]
  },
  {
   "cell_type": "code",
   "execution_count": 28,
   "metadata": {},
   "outputs": [],
   "source": [
    "dog_names = dog_names.drop('Count_AnimalName', axis=1) # Borro la columna que no me hace falta\n",
    "dog_names['Row_Labels'] = dog_names['Row_Labels'].str.lower().str.capitalize() # Lo pongo todo en minuscula con la primera en mayuscula"
   ]
  },
  {
   "cell_type": "code",
   "execution_count": 29,
   "metadata": {},
   "outputs": [],
   "source": [
    "dog_names['breed'] = [random.choice(razas_perros) for _ in range(len(dog_names))]"
   ]
  },
  {
   "cell_type": "code",
   "execution_count": 30,
   "metadata": {},
   "outputs": [
    {
     "data": {
      "text/html": [
       "<div>\n",
       "<style scoped>\n",
       "    .dataframe tbody tr th:only-of-type {\n",
       "        vertical-align: middle;\n",
       "    }\n",
       "\n",
       "    .dataframe tbody tr th {\n",
       "        vertical-align: top;\n",
       "    }\n",
       "\n",
       "    .dataframe thead th {\n",
       "        text-align: right;\n",
       "    }\n",
       "</style>\n",
       "<table border=\"1\" class=\"dataframe\">\n",
       "  <thead>\n",
       "    <tr style=\"text-align: right;\">\n",
       "      <th></th>\n",
       "      <th>Row_Labels</th>\n",
       "      <th>breed</th>\n",
       "    </tr>\n",
       "  </thead>\n",
       "  <tbody>\n",
       "    <tr>\n",
       "      <th>14392</th>\n",
       "      <td>Taro</td>\n",
       "      <td>Basset Hound</td>\n",
       "    </tr>\n",
       "    <tr>\n",
       "      <th>11977</th>\n",
       "      <td>Rainbow</td>\n",
       "      <td>Giant Schnauzer</td>\n",
       "    </tr>\n",
       "    <tr>\n",
       "      <th>3814</th>\n",
       "      <td>Dearie</td>\n",
       "      <td>Whippet</td>\n",
       "    </tr>\n",
       "    <tr>\n",
       "      <th>4843</th>\n",
       "      <td>Fenix</td>\n",
       "      <td>Kerry Blue Terrier</td>\n",
       "    </tr>\n",
       "    <tr>\n",
       "      <th>5903</th>\n",
       "      <td>Hannibal</td>\n",
       "      <td>Pekingese</td>\n",
       "    </tr>\n",
       "    <tr>\n",
       "      <th>3953</th>\n",
       "      <td>Dez</td>\n",
       "      <td>Beagle</td>\n",
       "    </tr>\n",
       "    <tr>\n",
       "      <th>4509</th>\n",
       "      <td>Elidin</td>\n",
       "      <td>Lhasa Apso</td>\n",
       "    </tr>\n",
       "    <tr>\n",
       "      <th>3611</th>\n",
       "      <td>Dabbie</td>\n",
       "      <td>Yorkshire Terrier</td>\n",
       "    </tr>\n",
       "    <tr>\n",
       "      <th>272</th>\n",
       "      <td>Alice</td>\n",
       "      <td>Yorkshire Terrier</td>\n",
       "    </tr>\n",
       "    <tr>\n",
       "      <th>10302</th>\n",
       "      <td>Nelly</td>\n",
       "      <td>Shar Pei</td>\n",
       "    </tr>\n",
       "  </tbody>\n",
       "</table>\n",
       "</div>"
      ],
      "text/plain": [
       "      Row_Labels               breed\n",
       "14392       Taro        Basset Hound\n",
       "11977    Rainbow     Giant Schnauzer\n",
       "3814      Dearie             Whippet\n",
       "4843       Fenix  Kerry Blue Terrier\n",
       "5903    Hannibal           Pekingese\n",
       "3953         Dez              Beagle\n",
       "4509      Elidin          Lhasa Apso\n",
       "3611      Dabbie   Yorkshire Terrier\n",
       "272        Alice   Yorkshire Terrier\n",
       "10302      Nelly            Shar Pei"
      ]
     },
     "execution_count": 30,
     "metadata": {},
     "output_type": "execute_result"
    }
   ],
   "source": [
    "dog_names.head(10)"
   ]
  },
  {
   "cell_type": "code",
   "execution_count": 31,
   "metadata": {},
   "outputs": [],
   "source": [
    "dog_names = dog_names.rename(columns={'Row_Labels': 'name'})"
   ]
  },
  {
   "cell_type": "code",
   "execution_count": 32,
   "metadata": {},
   "outputs": [
    {
     "data": {
      "text/plain": [
       "(100, 2)"
      ]
     },
     "execution_count": 32,
     "metadata": {},
     "output_type": "execute_result"
    }
   ],
   "source": [
    "dog_names.shape"
   ]
  },
  {
   "cell_type": "code",
   "execution_count": 33,
   "metadata": {},
   "outputs": [
    {
     "data": {
      "text/plain": [
       "name     0\n",
       "breed    0\n",
       "dtype: int64"
      ]
     },
     "execution_count": 33,
     "metadata": {},
     "output_type": "execute_result"
    }
   ],
   "source": [
    "dog_names.isnull().sum()"
   ]
  },
  {
   "cell_type": "code",
   "execution_count": 35,
   "metadata": {},
   "outputs": [],
   "source": [
    "perros = perros.merge(dog_names, on = 'breed', how='inner')"
   ]
  },
  {
   "cell_type": "code",
   "execution_count": 36,
   "metadata": {},
   "outputs": [
    {
     "data": {
      "text/plain": [
       "(100, 14)"
      ]
     },
     "execution_count": 36,
     "metadata": {},
     "output_type": "execute_result"
    }
   ],
   "source": [
    "perros.shape"
   ]
  },
  {
   "cell_type": "code",
   "execution_count": 37,
   "metadata": {},
   "outputs": [
    {
     "data": {
      "text/plain": [
       "breed               0\n",
       "country             0\n",
       "fur_color           0\n",
       "height              0\n",
       "eyes                0\n",
       "longevity           0\n",
       "character_traits    0\n",
       "size                0\n",
       "exercise            0\n",
       "grooming            0\n",
       "coat_lenght         0\n",
       "town_country        0\n",
       "garden              0\n",
       "name                0\n",
       "dtype: int64"
      ]
     },
     "execution_count": 37,
     "metadata": {},
     "output_type": "execute_result"
    }
   ],
   "source": [
    "perros.isnull().sum()"
   ]
  },
  {
   "cell_type": "code",
   "execution_count": 39,
   "metadata": {},
   "outputs": [],
   "source": [
    "perros.to_csv(r'..\\perros_limpio.csv', index=True)"
   ]
  },
  {
   "cell_type": "code",
   "execution_count": null,
   "metadata": {},
   "outputs": [],
   "source": []
  }
 ],
 "metadata": {
  "kernelspec": {
   "display_name": "base",
   "language": "python",
   "name": "python3"
  },
  "language_info": {
   "codemirror_mode": {
    "name": "ipython",
    "version": 3
   },
   "file_extension": ".py",
   "mimetype": "text/x-python",
   "name": "python",
   "nbconvert_exporter": "python",
   "pygments_lexer": "ipython3",
   "version": "3.9.13"
  },
  "orig_nbformat": 4
 },
 "nbformat": 4,
 "nbformat_minor": 2
}
